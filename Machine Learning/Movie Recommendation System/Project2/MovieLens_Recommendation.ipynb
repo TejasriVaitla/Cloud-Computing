{
  "cells": [
    {
      "cell_type": "markdown",
      "metadata": {
        "id": "view-in-github",
        "colab_type": "text"
      },
      "source": [
        "<a href=\"https://colab.research.google.com/github/TejasriVaitla/Cloud-Computing/blob/main/Machine%20Learning/Movie%20Recommendation%20System/Project2/MovieLens_Recommendation.ipynb\" target=\"_parent\"><img src=\"https://colab.research.google.com/assets/colab-badge.svg\" alt=\"Open In Colab\"/></a>"
      ]
    },
    {
      "cell_type": "markdown",
      "metadata": {
        "id": "4m1RGOIvCx2T"
      },
      "source": [
        "### Import libraries"
      ]
    },
    {
      "cell_type": "code",
      "execution_count": null,
      "metadata": {
        "id": "VzKpLhA8Cx2X"
      },
      "outputs": [],
      "source": [
        "#https://grouplens.org/datasets/movielens/"
      ]
    },
    {
      "cell_type": "code",
      "execution_count": null,
      "metadata": {
        "colab": {
          "base_uri": "https://localhost:8080/"
        },
        "id": "qI58KrlWC2ry",
        "outputId": "8f4753d1-1bf8-4303-e776-3fec712d98a9"
      },
      "outputs": [
        {
          "name": "stdout",
          "output_type": "stream",
          "text": [
            "Collecting pyspark\n",
            "  Downloading pyspark-3.4.1.tar.gz (310.8 MB)\n",
            "\u001b[2K     \u001b[90m━━━━━━━━━━━━━━━━━━━━━━━━━━━━━━━━━━━━━━━\u001b[0m \u001b[32m310.8/310.8 MB\u001b[0m \u001b[31m4.6 MB/s\u001b[0m eta \u001b[36m0:00:00\u001b[0m\n",
            "\u001b[?25h  Preparing metadata (setup.py) ... \u001b[?25l\u001b[?25hdone\n",
            "Requirement already satisfied: py4j==0.10.9.7 in /usr/local/lib/python3.10/dist-packages (from pyspark) (0.10.9.7)\n",
            "Building wheels for collected packages: pyspark\n",
            "  Building wheel for pyspark (setup.py) ... \u001b[?25l\u001b[?25hdone\n",
            "  Created wheel for pyspark: filename=pyspark-3.4.1-py2.py3-none-any.whl size=311285398 sha256=47d56870f9f208c935b6dd02db1748b0d93ca856a9f42a2b0cdbedbd25b8c3ea\n",
            "  Stored in directory: /root/.cache/pip/wheels/0d/77/a3/ff2f74cc9ab41f8f594dabf0579c2a7c6de920d584206e0834\n",
            "Successfully built pyspark\n",
            "Installing collected packages: pyspark\n",
            "Successfully installed pyspark-3.4.1\n"
          ]
        }
      ],
      "source": [
        "!pip install pyspark"
      ]
    },
    {
      "cell_type": "code",
      "execution_count": null,
      "metadata": {
        "id": "YHR8xokSCx2Y"
      },
      "outputs": [],
      "source": [
        "import pandas as pd\n",
        "from pyspark.sql.functions import col, explode\n",
        "from pyspark import SparkContext"
      ]
    },
    {
      "cell_type": "markdown",
      "metadata": {
        "id": "VZqrH01hCx2Z"
      },
      "source": [
        "### Initiate spark session"
      ]
    },
    {
      "cell_type": "code",
      "execution_count": null,
      "metadata": {
        "id": "q5BtRuP5Cx2Z"
      },
      "outputs": [],
      "source": [
        "from pyspark.sql import SparkSession\n",
        "sc = SparkContext\n",
        "# sc.setCheckpointDir('checkpoint')\n",
        "spark = SparkSession.builder.appName('Recommendations').getOrCreate()"
      ]
    },
    {
      "cell_type": "markdown",
      "metadata": {
        "id": "_YyNV3Q-Cx2Z"
      },
      "source": [
        "# 1. Load data"
      ]
    },
    {
      "cell_type": "code",
      "execution_count": null,
      "metadata": {
        "id": "4aynRQPvCx2Z"
      },
      "outputs": [],
      "source": [
        "movies = spark.read.csv(\"movies.csv\",header=True)\n",
        "ratings = spark.read.csv(\"ratings.csv\",header=True)"
      ]
    },
    {
      "cell_type": "code",
      "execution_count": null,
      "metadata": {
        "colab": {
          "base_uri": "https://localhost:8080/"
        },
        "id": "zBG7sCwbCx2Z",
        "outputId": "bed7a60e-8903-4503-c73c-d3df69302397"
      },
      "outputs": [
        {
          "name": "stdout",
          "output_type": "stream",
          "text": [
            "+------+-------+------+---------+\n",
            "|userId|movieId|rating|timestamp|\n",
            "+------+-------+------+---------+\n",
            "|     1|      1|   4.0|964982703|\n",
            "|     1|      3|   4.0|964981247|\n",
            "|     1|      6|   4.0|964982224|\n",
            "|     1|     47|   5.0|964983815|\n",
            "|     1|     50|   5.0|964982931|\n",
            "|     1|     70|   3.0|964982400|\n",
            "|     1|    101|   5.0|964980868|\n",
            "|     1|    110|   4.0|964982176|\n",
            "|     1|    151|   5.0|964984041|\n",
            "|     1|    157|   5.0|964984100|\n",
            "|     1|    163|   5.0|964983650|\n",
            "|     1|    216|   5.0|964981208|\n",
            "|     1|    223|   3.0|964980985|\n",
            "|     1|    231|   5.0|964981179|\n",
            "|     1|    235|   4.0|964980908|\n",
            "|     1|    260|   5.0|964981680|\n",
            "|     1|    296|   3.0|964982967|\n",
            "|     1|    316|   3.0|964982310|\n",
            "|     1|    333|   5.0|964981179|\n",
            "|     1|    349|   4.0|964982563|\n",
            "+------+-------+------+---------+\n",
            "only showing top 20 rows\n",
            "\n"
          ]
        }
      ],
      "source": [
        "ratings.show()"
      ]
    },
    {
      "cell_type": "code",
      "execution_count": null,
      "metadata": {
        "colab": {
          "base_uri": "https://localhost:8080/"
        },
        "id": "V71G8_92Cx2a",
        "outputId": "fb286f7e-7717-4ae9-8338-e5a9fa1c13a4"
      },
      "outputs": [
        {
          "name": "stdout",
          "output_type": "stream",
          "text": [
            "root\n",
            " |-- userId: string (nullable = true)\n",
            " |-- movieId: string (nullable = true)\n",
            " |-- rating: string (nullable = true)\n",
            " |-- timestamp: string (nullable = true)\n",
            "\n"
          ]
        }
      ],
      "source": [
        "ratings.printSchema()"
      ]
    },
    {
      "cell_type": "code",
      "execution_count": null,
      "metadata": {
        "colab": {
          "base_uri": "https://localhost:8080/"
        },
        "id": "s4wWRcbDCx2b",
        "outputId": "93c5acde-d97d-4e33-e27b-b37e8b230d3a"
      },
      "outputs": [
        {
          "name": "stdout",
          "output_type": "stream",
          "text": [
            "+------+-------+------+\n",
            "|userId|movieId|rating|\n",
            "+------+-------+------+\n",
            "|     1|      1|   4.0|\n",
            "|     1|      3|   4.0|\n",
            "|     1|      6|   4.0|\n",
            "|     1|     47|   5.0|\n",
            "|     1|     50|   5.0|\n",
            "|     1|     70|   3.0|\n",
            "|     1|    101|   5.0|\n",
            "|     1|    110|   4.0|\n",
            "|     1|    151|   5.0|\n",
            "|     1|    157|   5.0|\n",
            "|     1|    163|   5.0|\n",
            "|     1|    216|   5.0|\n",
            "|     1|    223|   3.0|\n",
            "|     1|    231|   5.0|\n",
            "|     1|    235|   4.0|\n",
            "|     1|    260|   5.0|\n",
            "|     1|    296|   3.0|\n",
            "|     1|    316|   3.0|\n",
            "|     1|    333|   5.0|\n",
            "|     1|    349|   4.0|\n",
            "+------+-------+------+\n",
            "only showing top 20 rows\n",
            "\n"
          ]
        }
      ],
      "source": [
        "ratings = ratings.\\\n",
        "    withColumn('userId', col('userId').cast('integer')).\\\n",
        "    withColumn('movieId', col('movieId').cast('integer')).\\\n",
        "    withColumn('rating', col('rating').cast('float')).\\\n",
        "    drop('timestamp')\n",
        "ratings.show()"
      ]
    },
    {
      "cell_type": "markdown",
      "metadata": {
        "id": "FcR0FaW8Cx2b"
      },
      "source": [
        "## Calculate sparsity"
      ]
    },
    {
      "cell_type": "code",
      "execution_count": null,
      "metadata": {
        "colab": {
          "base_uri": "https://localhost:8080/"
        },
        "id": "JVTG0E2tCx2b",
        "outputId": "fa353a0c-613b-480a-93f6-3a0a60205f0e"
      },
      "outputs": [
        {
          "name": "stdout",
          "output_type": "stream",
          "text": [
            "The ratings dataframe is  98.30% empty.\n"
          ]
        }
      ],
      "source": [
        "# Count the total number of ratings in the dataset\n",
        "numerator = ratings.select(\"rating\").count()\n",
        "\n",
        "# Count the number of distinct userIds and distinct movieIds\n",
        "num_users = ratings.select(\"userId\").distinct().count()\n",
        "num_movies = ratings.select(\"movieId\").distinct().count()\n",
        "\n",
        "# Set the denominator equal to the number of users multiplied by the number of movies\n",
        "denominator = num_users * num_movies\n",
        "\n",
        "# Divide the numerator by the denominator\n",
        "sparsity = (1.0 - (numerator *1.0)/denominator)*100\n",
        "print(\"The ratings dataframe is \", \"%.2f\" % sparsity + \"% empty.\")"
      ]
    },
    {
      "cell_type": "markdown",
      "metadata": {
        "id": "YmohJsM-Cx2c"
      },
      "source": [
        "## Interpret ratings"
      ]
    },
    {
      "cell_type": "code",
      "execution_count": null,
      "metadata": {
        "colab": {
          "base_uri": "https://localhost:8080/"
        },
        "id": "QEJ-W7WtCx2c",
        "outputId": "b418e5c6-c6aa-4585-bb2b-a7e51a9ab0af"
      },
      "outputs": [
        {
          "name": "stdout",
          "output_type": "stream",
          "text": [
            "+------+-----+\n",
            "|userId|count|\n",
            "+------+-----+\n",
            "|   414| 2698|\n",
            "|   599| 2478|\n",
            "|   474| 2108|\n",
            "|   448| 1864|\n",
            "|   274| 1346|\n",
            "|   610| 1302|\n",
            "|    68| 1260|\n",
            "|   380| 1218|\n",
            "|   606| 1115|\n",
            "|   288| 1055|\n",
            "|   249| 1046|\n",
            "|   387| 1027|\n",
            "|   182|  977|\n",
            "|   307|  975|\n",
            "|   603|  943|\n",
            "|   298|  939|\n",
            "|   177|  904|\n",
            "|   318|  879|\n",
            "|   232|  862|\n",
            "|   480|  836|\n",
            "+------+-----+\n",
            "only showing top 20 rows\n",
            "\n"
          ]
        }
      ],
      "source": [
        "# Group data by userId, count ratings\n",
        "userId_ratings = ratings.groupBy(\"userId\").count().orderBy('count', ascending=False)\n",
        "userId_ratings.show()"
      ]
    },
    {
      "cell_type": "code",
      "execution_count": null,
      "metadata": {
        "colab": {
          "base_uri": "https://localhost:8080/"
        },
        "id": "qLJrYwXRCx2d",
        "outputId": "cc794861-692a-4087-def9-35a858aa7811"
      },
      "outputs": [
        {
          "name": "stdout",
          "output_type": "stream",
          "text": [
            "+-------+-----+\n",
            "|movieId|count|\n",
            "+-------+-----+\n",
            "|    356|  329|\n",
            "|    318|  317|\n",
            "|    296|  307|\n",
            "|    593|  279|\n",
            "|   2571|  278|\n",
            "|    260|  251|\n",
            "|    480|  238|\n",
            "|    110|  237|\n",
            "|    589|  224|\n",
            "|    527|  220|\n",
            "|   2959|  218|\n",
            "|      1|  215|\n",
            "|   1196|  211|\n",
            "|     50|  204|\n",
            "|   2858|  204|\n",
            "|     47|  203|\n",
            "|    780|  202|\n",
            "|    150|  201|\n",
            "|   1198|  200|\n",
            "|   4993|  198|\n",
            "+-------+-----+\n",
            "only showing top 20 rows\n",
            "\n"
          ]
        }
      ],
      "source": [
        "# Group data by userId, count ratings\n",
        "movieId_ratings = ratings.groupBy(\"movieId\").count().orderBy('count', ascending=False)\n",
        "movieId_ratings.show()"
      ]
    },
    {
      "cell_type": "markdown",
      "metadata": {
        "id": "Hbmc-ThhCx2d"
      },
      "source": [
        "## Build Out An ALS Model"
      ]
    },
    {
      "cell_type": "code",
      "execution_count": null,
      "metadata": {
        "id": "EkX05Zi0Cx2d"
      },
      "outputs": [],
      "source": [
        "# Import the required functions\n",
        "from pyspark.ml.evaluation import RegressionEvaluator\n",
        "from pyspark.ml.recommendation import ALS\n",
        "from pyspark.ml.tuning import ParamGridBuilder, CrossValidator"
      ]
    },
    {
      "cell_type": "code",
      "execution_count": null,
      "metadata": {
        "colab": {
          "base_uri": "https://localhost:8080/"
        },
        "id": "wCiG1BMGCx2e",
        "outputId": "cbedee68-17b1-42d1-c48d-c9d4140058c1"
      },
      "outputs": [
        {
          "data": {
            "text/plain": [
              "pyspark.ml.recommendation.ALS"
            ]
          },
          "execution_count": 17,
          "metadata": {},
          "output_type": "execute_result"
        }
      ],
      "source": [
        "# Create test and train set\n",
        "(train, test) = ratings.randomSplit([0.8, 0.2], seed = 1234)\n",
        "\n",
        "# Create ALS model\n",
        "als = ALS(userCol=\"userId\", itemCol=\"movieId\", ratingCol=\"rating\", nonnegative = True, implicitPrefs = False, coldStartStrategy=\"drop\")\n",
        "\n",
        "# Confirm that a model called \"als\" was created\n",
        "type(als)"
      ]
    },
    {
      "cell_type": "markdown",
      "metadata": {
        "id": "CL5SB9VjCx2e"
      },
      "source": [
        "## Tell Spark how to tune your ALS model"
      ]
    },
    {
      "cell_type": "code",
      "execution_count": null,
      "metadata": {
        "colab": {
          "base_uri": "https://localhost:8080/"
        },
        "id": "YmBQM05iCx2e",
        "outputId": "13f4583f-f4fe-44db-a8f2-7e151cfe4a07"
      },
      "outputs": [
        {
          "name": "stdout",
          "output_type": "stream",
          "text": [
            "Num models to be tested:  16\n"
          ]
        }
      ],
      "source": [
        "# Import the requisite items\n",
        "from pyspark.ml.evaluation import RegressionEvaluator\n",
        "from pyspark.ml.tuning import ParamGridBuilder, CrossValidator\n",
        "\n",
        "# Add hyperparameters and their respective values to param_grid\n",
        "param_grid = ParamGridBuilder() \\\n",
        "            .addGrid(als.rank, [10, 50, 100, 150]) \\\n",
        "            .addGrid(als.regParam, [.01, .05, .1, .15]) \\\n",
        "            .build()\n",
        "            #             .addGrid(als.maxIter, [5, 50, 100, 200]) \\\n",
        "\n",
        "\n",
        "# Define evaluator as RMSE and print length of evaluator\n",
        "evaluator = RegressionEvaluator(metricName=\"rmse\", labelCol=\"rating\", predictionCol=\"prediction\")\n",
        "print (\"Num models to be tested: \", len(param_grid))"
      ]
    },
    {
      "cell_type": "markdown",
      "metadata": {
        "id": "dv1sb9i5Cx2e"
      },
      "source": [
        "## Build your cross validation pipeline"
      ]
    },
    {
      "cell_type": "code",
      "execution_count": null,
      "metadata": {
        "colab": {
          "base_uri": "https://localhost:8080/"
        },
        "id": "glaI7LKGCx2e",
        "outputId": "660b0d1c-4357-4f2b-af78-d21f751e4619"
      },
      "outputs": [
        {
          "name": "stdout",
          "output_type": "stream",
          "text": [
            "CrossValidator_b1da3ace58b2\n"
          ]
        }
      ],
      "source": [
        "# Build cross validation using CrossValidator\n",
        "cv = CrossValidator(estimator=als, estimatorParamMaps=param_grid, evaluator=evaluator, numFolds=5)\n",
        "\n",
        "# Confirm cv was built\n",
        "print(cv)"
      ]
    },
    {
      "cell_type": "markdown",
      "metadata": {
        "id": "5P7BcV64Cx2f"
      },
      "source": [
        "## Best Model and Best Model Parameters"
      ]
    },
    {
      "cell_type": "code",
      "execution_count": null,
      "metadata": {
        "colab": {
          "background_save": true
        },
        "id": "tB7MnH5ECx2f"
      },
      "outputs": [],
      "source": [
        "#Fit cross validator to the 'train' dataset\n",
        "model = cv.fit(train)\n",
        "\n",
        "#Extract best model from the cv model above\n",
        "best_model = model.bestModel"
      ]
    },
    {
      "cell_type": "code",
      "execution_count": null,
      "metadata": {
        "colab": {
          "background_save": true
        },
        "id": "q-bIrSgtCx2f",
        "outputId": "5e7b5d7c-0a74-4029-a016-adf591136bf2"
      },
      "outputs": [
        {
          "name": "stdout",
          "output_type": "stream",
          "text": [
            "<class 'pyspark.ml.recommendation.ALSModel'>\n",
            "**Best Model**\n",
            "  Rank: 100\n",
            "  MaxIter: 10\n",
            "  RegParam: 0.15\n"
          ]
        }
      ],
      "source": [
        "\n",
        "# Print best_model\n",
        "print(type(best_model))\n",
        "\n",
        "# Complete the code below to extract the ALS model parameters\n",
        "print(\"**Best Model**\")\n",
        "\n",
        "# # Print \"Rank\"\n",
        "print(\"  Rank:\", best_model._java_obj.parent().getRank())\n",
        "\n",
        "# Print \"MaxIter\"\n",
        "print(\"  MaxIter:\", best_model._java_obj.parent().getMaxIter())\n",
        "\n",
        "# Print \"RegParam\"\n",
        "print(\"  RegParam:\", best_model._java_obj.parent().getRegParam())"
      ]
    },
    {
      "cell_type": "code",
      "execution_count": null,
      "metadata": {
        "colab": {
          "background_save": true
        },
        "id": "-QMKaLcSCx2g",
        "scrolled": true,
        "outputId": "ab2121b4-6c34-43be-df0d-b1caf7fa96f0"
      },
      "outputs": [
        {
          "name": "stdout",
          "output_type": "stream",
          "text": [
            "0.867999716294944\n"
          ]
        }
      ],
      "source": [
        "# View the predictions\n",
        "test_predictions = best_model.transform(test)\n",
        "RMSE = evaluator.evaluate(test_predictions)\n",
        "print(RMSE)"
      ]
    },
    {
      "cell_type": "code",
      "execution_count": null,
      "metadata": {
        "colab": {
          "background_save": true
        },
        "id": "h8MS8dwnCx2g",
        "outputId": "52df35ae-1e00-4a91-b756-15a27ef65ac2"
      },
      "outputs": [
        {
          "name": "stdout",
          "output_type": "stream",
          "text": [
            "+------+-------+------+----------+\n",
            "|userId|movieId|rating|prediction|\n",
            "+------+-------+------+----------+\n",
            "|   148|    356|   4.0| 3.5113072|\n",
            "|   148|   4896|   4.0| 3.5106778|\n",
            "|   148|   4993|   3.0|  3.443091|\n",
            "|   148|   7153|   3.0| 3.4262254|\n",
            "|   148|   8368|   4.0|   3.58837|\n",
            "|   148|  40629|   5.0| 3.3441403|\n",
            "|   148|  50872|   3.0| 3.6789117|\n",
            "|   148|  60069|   4.5| 3.6821837|\n",
            "|   148|  69757|   3.5| 3.3913906|\n",
            "|   148|  72998|   4.0| 3.2475388|\n",
            "|   148|  81847|   4.5|  3.461065|\n",
            "|   148|  98491|   5.0|  3.738956|\n",
            "|   148| 115617|   3.5|  3.532233|\n",
            "|   148| 122886|   3.5| 3.3519826|\n",
            "|   463|    296|   4.0| 4.1448135|\n",
            "|   463|    527|   4.0| 3.7833629|\n",
            "|   463|   2019|   4.0|  3.930145|\n",
            "|   471|    527|   4.5| 3.7986026|\n",
            "|   471|   6016|   4.0| 3.9728875|\n",
            "|   471|   6333|   2.5| 3.2303944|\n",
            "+------+-------+------+----------+\n",
            "only showing top 20 rows\n",
            "\n"
          ]
        }
      ],
      "source": [
        "test_predictions.show()"
      ]
    },
    {
      "cell_type": "markdown",
      "metadata": {
        "id": "5fTt2CFBCx2h"
      },
      "source": [
        "## Make Recommendations"
      ]
    },
    {
      "cell_type": "code",
      "execution_count": null,
      "metadata": {
        "colab": {
          "background_save": true
        },
        "id": "egtBGsSdCx2h",
        "outputId": "64ca6eb7-7099-4831-e02b-77b74c3d74e1"
      },
      "outputs": [
        {
          "name": "stdout",
          "output_type": "stream",
          "text": [
            "+------+--------------------+\n",
            "|userId|     recommendations|\n",
            "+------+--------------------+\n",
            "|     1|[{3379, 5.7479773...|\n",
            "|     2|[{131724, 4.79826...|\n",
            "|     3|[{6835, 4.85314},...|\n",
            "|     4|[{3851, 4.852987}...|\n",
            "|     5|[{3379, 4.575127}...|\n",
            "|     6|[{33649, 4.740606...|\n",
            "|     7|[{33649, 4.450504...|\n",
            "|     8|[{3379, 4.6894383...|\n",
            "|     9|[{3379, 4.7961397...|\n",
            "|    10|[{71579, 4.531901...|\n",
            "+------+--------------------+\n",
            "\n"
          ]
        }
      ],
      "source": [
        "# Generate n Recommendations for all users\n",
        "nrecommendations = best_model.recommendForAllUsers(10)\n",
        "nrecommendations.limit(10).show()"
      ]
    },
    {
      "cell_type": "code",
      "execution_count": null,
      "metadata": {
        "colab": {
          "background_save": true
        },
        "id": "NQhqb_xYCx2h",
        "outputId": "fd9c7993-1525-4480-97a1-5d191890dd63"
      },
      "outputs": [
        {
          "name": "stdout",
          "output_type": "stream",
          "text": [
            "+------+-------+---------+\n",
            "|userId|movieId|   rating|\n",
            "+------+-------+---------+\n",
            "|     1|   3379|5.7479773|\n",
            "|     1|  33649| 5.524695|\n",
            "|     1|   5490| 5.442981|\n",
            "|     1| 171495|5.4243693|\n",
            "|     1|   5416|5.3650436|\n",
            "|     1|   5328|5.3650436|\n",
            "|     1|   3951|5.3650436|\n",
            "|     1|  78836| 5.360681|\n",
            "|     1|   5915|5.3126545|\n",
            "|     1| 184245|5.3088217|\n",
            "|     2| 131724| 4.798265|\n",
            "|     2|   3379|4.6584625|\n",
            "|     2| 171495|4.4413843|\n",
            "|     2|  33649|4.4194336|\n",
            "|     2|  78836| 4.392709|\n",
            "+------+-------+---------+\n",
            "\n"
          ]
        }
      ],
      "source": [
        "nrecommendations = nrecommendations\\\n",
        "    .withColumn(\"rec_exp\", explode(\"recommendations\"))\\\n",
        "    .select('userId', col(\"rec_exp.movieId\"), col(\"rec_exp.rating\"))\n",
        "\n",
        "nrecommendations.limit(15).show()"
      ]
    },
    {
      "cell_type": "markdown",
      "metadata": {
        "id": "TwVwQwQvCx2h"
      },
      "source": [
        "## Do the recommendations make sense?\n",
        "Lets merge movie name and genres to teh recommendation matrix for interpretability."
      ]
    },
    {
      "cell_type": "code",
      "execution_count": null,
      "metadata": {
        "colab": {
          "background_save": true
        },
        "id": "0PP34PcUCx2i",
        "outputId": "1205e38c-8878-4558-b9e0-4f01aa06d242"
      },
      "outputs": [
        {
          "name": "stdout",
          "output_type": "stream",
          "text": [
            "+-------+------+---------+--------------------+--------------------+\n",
            "|movieId|userId|   rating|               title|              genres|\n",
            "+-------+------+---------+--------------------+--------------------+\n",
            "|   3379|   108| 5.220047| On the Beach (1959)|               Drama|\n",
            "|   3925|   108| 5.000344|Stranger Than Par...|        Comedy|Drama|\n",
            "|  33649|   108|4.9513683|  Saving Face (2004)|Comedy|Drama|Romance|\n",
            "|   6201|   108| 4.912661|    Lady Jane (1986)|       Drama|Romance|\n",
            "| 171495|   108| 4.877958|              Cosmos|  (no genres listed)|\n",
            "|   3451|   108|4.8723145|Guess Who's Comin...|               Drama|\n",
            "|   3795|   108| 4.852234|Five Senses, The ...|               Drama|\n",
            "|  93008|   108| 4.839637|Very Potter Seque...|      Comedy|Musical|\n",
            "|  77846|   108| 4.839637| 12 Angry Men (1997)|         Crime|Drama|\n",
            "|  25906|   108| 4.839637|Mr. Skeffington (...|       Drama|Romance|\n",
            "+-------+------+---------+--------------------+--------------------+\n",
            "\n"
          ]
        }
      ],
      "source": [
        "nrecommendations.join(movies, on='movieId').filter('userId = 108').show()"
      ]
    },
    {
      "cell_type": "code",
      "execution_count": null,
      "metadata": {
        "colab": {
          "background_save": true
        },
        "id": "9CgxMCPkCx2i",
        "outputId": "d254cc39-441f-48f1-aad1-bfcd3bd64522"
      },
      "outputs": [
        {
          "name": "stdout",
          "output_type": "stream",
          "text": [
            "+-------+------+------+--------------------+--------------------+\n",
            "|movieId|userId|rating|               title|              genres|\n",
            "+-------+------+------+--------------------+--------------------+\n",
            "|   3795|   108|   5.0|Five Senses, The ...|               Drama|\n",
            "|   5450|   108|   5.0|Lovely & Amazing ...|Comedy|Drama|Romance|\n",
            "|   4027|   108|   5.0|O Brother, Where ...|Adventure|Comedy|...|\n",
            "|     82|   108|   5.0|Antonia's Line (A...|        Comedy|Drama|\n",
            "|   4246|   108|   5.0|Bridget Jones's D...|Comedy|Drama|Romance|\n",
            "|    541|   108|   5.0| Blade Runner (1982)|Action|Sci-Fi|Thr...|\n",
            "|   4308|   108|   5.0| Moulin Rouge (2001)|Drama|Musical|Rom...|\n",
            "|    838|   108|   5.0|         Emma (1996)|Comedy|Drama|Romance|\n",
            "|   4372|   108|   5.0|Crazy/Beautiful (...|       Drama|Romance|\n",
            "|   1204|   108|   5.0|Lawrence of Arabi...| Adventure|Drama|War|\n",
            "|   4878|   108|   5.0| Donnie Darko (2001)|Drama|Mystery|Sci...|\n",
            "|   1684|   108|   5.0|Mrs. Dalloway (1997)|       Drama|Romance|\n",
            "|   4973|   108|   5.0|Amelie (Fabuleux ...|      Comedy|Romance|\n",
            "|   2395|   108|   5.0|     Rushmore (1998)|        Comedy|Drama|\n",
            "|   4976|   108|   5.0|         Iris (2001)|               Drama|\n",
            "+-------+------+------+--------------------+--------------------+\n",
            "\n"
          ]
        }
      ],
      "source": [
        "ratings.join(movies, on='movieId').filter('userId = 108').sort('rating', ascending=False).limit(15).show()"
      ]
    }
  ],
  "metadata": {
    "colab": {
      "provenance": [],
      "include_colab_link": true
    },
    "kernelspec": {
      "display_name": "Python 3",
      "language": "python",
      "name": "python3"
    },
    "language_info": {
      "codemirror_mode": {
        "name": "ipython",
        "version": 3
      },
      "file_extension": ".py",
      "mimetype": "text/x-python",
      "name": "python",
      "nbconvert_exporter": "python",
      "pygments_lexer": "ipython3",
      "version": "3.7.3"
    }
  },
  "nbformat": 4,
  "nbformat_minor": 0
}